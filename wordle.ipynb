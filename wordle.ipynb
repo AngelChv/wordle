{
  "nbformat": 4,
  "nbformat_minor": 0,
  "metadata": {
    "colab": {
      "provenance": [],
      "authorship_tag": "ABX9TyPV8jSdYfLlKVSa6xLZQhv/",
      "include_colab_link": true
    },
    "kernelspec": {
      "name": "python3",
      "display_name": "Python 3"
    },
    "language_info": {
      "name": "python"
    }
  },
  "cells": [
    {
      "cell_type": "markdown",
      "metadata": {
        "id": "view-in-github",
        "colab_type": "text"
      },
      "source": [
        "<a href=\"https://colab.research.google.com/github/AngelChv/wordle/blob/master/wordle.ipynb\" target=\"_parent\"><img src=\"https://colab.research.google.com/assets/colab-badge.svg\" alt=\"Open In Colab\"/></a>"
      ]
    },
    {
      "cell_type": "markdown",
      "source": [
        "# Wordle"
      ],
      "metadata": {
        "id": "mWNJ_iSLjCZ7"
      }
    },
    {
      "cell_type": "code",
      "source": [
        "!pip install rich\n",
        "!pip install wordfreq"
      ],
      "metadata": {
        "colab": {
          "base_uri": "https://localhost:8080/"
        },
        "id": "z6cZxBbDkXfR",
        "outputId": "ca54b858-9238-4d20-e3e2-03acf7ca59fa"
      },
      "execution_count": null,
      "outputs": [
        {
          "output_type": "stream",
          "name": "stdout",
          "text": [
            "Requirement already satisfied: rich in /usr/local/lib/python3.10/dist-packages (13.9.2)\n",
            "Requirement already satisfied: markdown-it-py>=2.2.0 in /usr/local/lib/python3.10/dist-packages (from rich) (3.0.0)\n",
            "Requirement already satisfied: pygments<3.0.0,>=2.13.0 in /usr/local/lib/python3.10/dist-packages (from rich) (2.18.0)\n",
            "Requirement already satisfied: typing-extensions<5.0,>=4.0.0 in /usr/local/lib/python3.10/dist-packages (from rich) (4.12.2)\n",
            "Requirement already satisfied: mdurl~=0.1 in /usr/local/lib/python3.10/dist-packages (from markdown-it-py>=2.2.0->rich) (0.1.2)\n",
            "Collecting wordfreq\n",
            "  Downloading wordfreq-3.1.1-py3-none-any.whl.metadata (27 kB)\n",
            "Collecting ftfy>=6.1 (from wordfreq)\n",
            "  Downloading ftfy-6.3.0-py3-none-any.whl.metadata (7.1 kB)\n",
            "Requirement already satisfied: langcodes>=3.0 in /usr/local/lib/python3.10/dist-packages (from wordfreq) (3.4.1)\n",
            "Collecting locate<2.0.0,>=1.1.1 (from wordfreq)\n",
            "  Downloading locate-1.1.1-py3-none-any.whl.metadata (3.9 kB)\n",
            "Requirement already satisfied: msgpack<2.0.0,>=1.0.7 in /usr/local/lib/python3.10/dist-packages (from wordfreq) (1.0.8)\n",
            "Requirement already satisfied: regex>=2023.10.3 in /usr/local/lib/python3.10/dist-packages (from wordfreq) (2024.9.11)\n",
            "Requirement already satisfied: wcwidth in /usr/local/lib/python3.10/dist-packages (from ftfy>=6.1->wordfreq) (0.2.13)\n",
            "Requirement already satisfied: language-data>=1.2 in /usr/local/lib/python3.10/dist-packages (from langcodes>=3.0->wordfreq) (1.2.0)\n",
            "Requirement already satisfied: marisa-trie>=0.7.7 in /usr/local/lib/python3.10/dist-packages (from language-data>=1.2->langcodes>=3.0->wordfreq) (1.2.0)\n",
            "Requirement already satisfied: setuptools in /usr/local/lib/python3.10/dist-packages (from marisa-trie>=0.7.7->language-data>=1.2->langcodes>=3.0->wordfreq) (71.0.4)\n",
            "Downloading wordfreq-3.1.1-py3-none-any.whl (56.8 MB)\n",
            "\u001b[2K   \u001b[90m━━━━━━━━━━━━━━━━━━━━━━━━━━━━━━━━━━━━━━━━\u001b[0m \u001b[32m56.8/56.8 MB\u001b[0m \u001b[31m7.0 MB/s\u001b[0m eta \u001b[36m0:00:00\u001b[0m\n",
            "\u001b[?25hDownloading ftfy-6.3.0-py3-none-any.whl (44 kB)\n",
            "\u001b[2K   \u001b[90m━━━━━━━━━━━━━━━━━━━━━━━━━━━━━━━━━━━━━━━━\u001b[0m \u001b[32m44.8/44.8 kB\u001b[0m \u001b[31m3.0 MB/s\u001b[0m eta \u001b[36m0:00:00\u001b[0m\n",
            "\u001b[?25hDownloading locate-1.1.1-py3-none-any.whl (5.4 kB)\n",
            "Installing collected packages: locate, ftfy, wordfreq\n",
            "Successfully installed ftfy-6.3.0 locate-1.1.1 wordfreq-3.1.1\n"
          ]
        }
      ]
    },
    {
      "cell_type": "code",
      "source": [
        "import json\n",
        "import os\n",
        "from json import JSONDecodeError\n",
        "import random\n",
        "import re\n",
        "import requests\n",
        "from regex import Pattern\n",
        "from requests import Response, RequestException\n",
        "from rich.console import Console\n",
        "import re\n",
        "from typing import Callable, Pattern\n",
        "from rich.table import Table\n",
        "import wordfreq\n",
        "from typing import Callable, Pattern"
      ],
      "metadata": {
        "id": "-TlMkxgcj-sE"
      },
      "execution_count": null,
      "outputs": []
    },
    {
      "cell_type": "code",
      "source": [
        "console = Console()"
      ],
      "metadata": {
        "id": "ezRsPCvxkKc1"
      },
      "execution_count": null,
      "outputs": []
    },
    {
      "cell_type": "markdown",
      "source": [
        "## Word"
      ],
      "metadata": {
        "id": "btw2xSH7keSV"
      }
    },
    {
      "cell_type": "code",
      "execution_count": null,
      "metadata": {
        "id": "MEiEE9Dui_jK"
      },
      "outputs": [],
      "source": [
        "class Word:\n",
        "    \"\"\"\n",
        "    Almacena el estado de cada uno de los caracteres de la palabra.\n",
        "    Si el carácter coincide en la misma posición que el de la palabra a adivinar, se mostrará en verde.\n",
        "    Si no coincide la posición, pero sí aparece en la palabra, se mostrará en amarillo.\n",
        "    Pero si no aparece, se mostrará en gris.\n",
        "    \"\"\"\n",
        "    def __init__(self, word: str):\n",
        "        self.characters: list[str] = list(word)\n",
        "\n",
        "    def check(self, word: str) -> bool:\n",
        "        win = True\n",
        "        for i, c in enumerate(self.characters):\n",
        "            positions = [index for index, char in enumerate(word) if c == char]\n",
        "            if positions:\n",
        "                if i in positions:\n",
        "                    self.characters[i] = f\"[green]{c}[/]\"\n",
        "                else:\n",
        "                    win = False\n",
        "                    self.characters[i] = f\"[yellow]{c}[/]\"\n",
        "            else:\n",
        "                win = False\n",
        "                self.characters[i] = f\"[dim]{c}[/]\"\n",
        "        return win\n",
        "\n",
        "\n",
        "    def get_characters(self) -> list[str]:\n",
        "        return self.characters"
      ]
    },
    {
      "cell_type": "markdown",
      "source": [
        "## Resource Manger:"
      ],
      "metadata": {
        "id": "HneIfTtNjoWl"
      }
    },
    {
      "cell_type": "code",
      "source": [
        "def get_resource(name: str) -> list[str]:\n",
        "    \"\"\"\n",
        "    Función para obtener una lista de palabras de un recurso local.\n",
        "    :return: Lista de palabras.\n",
        "    \"\"\"\n",
        "    try:\n",
        "        with open(\"resources/\" + name, 'r', encoding='utf-8') as f:\n",
        "            return json.load(f)\n",
        "    except FileNotFoundError:\n",
        "        print(f\"El archivo {name} no fue encontrado.\")\n",
        "        return []\n",
        "    except JSONDecodeError:\n",
        "        print(f\"Error al decodificar el archivo JSON: {name}.\")\n",
        "        return []\n",
        "    except OSError as e:\n",
        "        print(f\"Error de entrada/salida: {e}\")\n",
        "        return []\n",
        "\n",
        "\n",
        "def set_words(words: list[str], name: str) -> None:\n",
        "    \"\"\"\n",
        "    Almacena una lista de palabras en formato json.\n",
        "    :param name: Nombre del recurso.\n",
        "    :param words: Lista de palabras.\n",
        "    :return: :class:`None <None>`\n",
        "    \"\"\"\n",
        "    if not os.path.exists('resources'):\n",
        "        os.mkdir(\"resources\")\n",
        "\n",
        "    try:\n",
        "        with open('resources/' + name, 'wt', encoding='utf-8') as f:\n",
        "            json.dump(words, f)\n",
        "    except OSError as e:\n",
        "        print(f\"No se han podido guardar las palabras: {e}\")\n"
      ],
      "metadata": {
        "id": "_bv-d7odjstT"
      },
      "execution_count": null,
      "outputs": []
    },
    {
      "cell_type": "markdown",
      "source": [
        "## Data Muse"
      ],
      "metadata": {
        "id": "BR_X1G5MjxkF"
      }
    },
    {
      "cell_type": "code",
      "source": [
        "def get_rand_word_datamuse() -> str:\n",
        "    \"\"\"\n",
        "    Genera una palabra aleatoria en función a una lista obtenida de la api datamuse mediante una petición o de un\n",
        "    archivo local.\n",
        "    :return: Palabra aleatoria.\n",
        "    \"\"\"\n",
        "    words: list[str] = get_resource(\"datamuse.json\")\n",
        "    rand_word: str\n",
        "    if words:\n",
        "        console.print(\"Palabras cargadas del fichero local (datamuse.json).\")\n",
        "        rand_word = random.choice(words)\n",
        "    else:\n",
        "        console.log(\"Descárgando...\")\n",
        "        response: Response = get_request()\n",
        "        # Compruebo el estado de la petición (200 es correcta).\n",
        "        if response.status_code == 200:\n",
        "            words = [w['word'] for w in response.json()]\n",
        "            if words:  # compruebo si la respuesta no es nula.\n",
        "                filtered_words = filter_words(words)\n",
        "                set_words(filtered_words, \"datamuse.json\")\n",
        "                rand_word = random.choice(filtered_words)\n",
        "            else:\n",
        "                console.print(\"Error no se han descargado palabras.\", style=\"red\")\n",
        "                rand_word = f\"Error, no se han descargado palabras.\"\n",
        "        else:\n",
        "            rand_word = f\"Error al conectarse a la API: {response.status_code}\"\n",
        "    return rand_word\n",
        "\n",
        "\n",
        "def get_request() -> Response:\n",
        "    \"\"\"\n",
        "    Realiza una petición a la API datamuse para obtener una serie de palabras con 5 letras en español.\n",
        "    :return: :class:`Response <Response>` que almacena el código de estado y el contenido de la petición.\n",
        "    \"\"\"\n",
        "    # Utilizo la api datamuse para obtener palabras.\n",
        "    url: str = 'https://api.datamuse.com/words'\n",
        "    # parámetros que definen la cantidad de palabras y la condición.\n",
        "    params: dict[str, str | int] = {\n",
        "        'sp': '?????',\n",
        "        'max': 1000,\n",
        "        'v': 'es'\n",
        "    }\n",
        "    try:\n",
        "        # realizo la petición:\n",
        "        return requests.get(url, params=params)\n",
        "    except RequestException as e:\n",
        "        console.print(f\"Error en la petición a la API: {e}\", style=\"red\")\n",
        "        # Devolver una respuesta vacía para que se detecte como error.\n",
        "        return Response()\n",
        "\n",
        "\n",
        "def filter_words(words: list[str]) -> list[str]:\n",
        "    word_length: int = 5\n",
        "    regex: Pattern = re.compile(fr\"^[a-zA-ZáéíóúÁÉÍÓÚñÑ]{{{word_length}}}$\")\n",
        "    return [word for word in words if regex.match(word)]\n"
      ],
      "metadata": {
        "id": "Sn1y_MLujzpq"
      },
      "execution_count": null,
      "outputs": []
    },
    {
      "cell_type": "markdown",
      "source": [
        "## Word Freq"
      ],
      "metadata": {
        "id": "swxXoc5dk2AJ"
      }
    },
    {
      "cell_type": "code",
      "source": [
        "def get_rand_word_freq() -> str:\n",
        "    \"\"\"\n",
        "    Genera una palabra aleatoria en función a una lista obtenida de la librería wordfreq.\n",
        "    :return: Palabra aleatoria.\n",
        "    \"\"\"\n",
        "    words: list[str] = get_resource(\"wordfreq.json\")\n",
        "    rand_word: str\n",
        "    if words:\n",
        "        print(\"Palabras cargadas del fichero local (wordfreq.json).\")\n",
        "        rand_word = random.choice(words)\n",
        "    else:\n",
        "        print(\"Recurso de palabras wordfreq no encontrado. Generando...\")\n",
        "        words = wordfreq.top_n_list('es', 1000) # Obtener las 1000 palabras más comunes.\n",
        "        filtered_words: list[str] = [p for p in words if len(p) == 5]\n",
        "        set_words(filtered_words, \"wordfreq.json\")\n",
        "        rand_word = random.choice(filtered_words)\n",
        "\n",
        "    return rand_word"
      ],
      "metadata": {
        "id": "nds4Drfqk4Yi"
      },
      "execution_count": null,
      "outputs": []
    },
    {
      "cell_type": "markdown",
      "source": [
        "## Main"
      ],
      "metadata": {
        "id": "z3z5QspTlMSy"
      }
    },
    {
      "cell_type": "code",
      "source": [
        "def main():\n",
        "    \"\"\"\n",
        "    todo guardar puntuaciones.\n",
        "    Author: <Ángel Chicote>\n",
        "    Consejos: ejecutar si no vés los colores la terminal de tu ide, ejecutaló en la terminal directamente.\n",
        "    Instalaciones:\n",
        "    pip install rich\n",
        "    \"\"\"\n",
        "    console.rule(\"Bienvenido al [bold][red]W[/][green]o[/][yellow]r[/][blue]d[/][magenta]l[/][cyan]e[/][/] para terminal!\")\n",
        "\n",
        "    #Pedir al usuario de qué forma quiere obtener las palabras:\n",
        "    print(\"Este programa necesita cargar una lista de palabras, para ello existen dos opciones:\")\n",
        "    print(\"- Usar data muse (una api que proporciona palabras en inglés y en español) no requiere de instalación. \"\n",
        "          \"programa funciona en español, pero la api muchas veces confunde palabras en ingles y las introduce en la lista.\")\n",
        "    print(\"- Wordfreq, es una librería de python que proporciona una serie de palabras comunes, necesita de instalación, \"\n",
        "          \"pero proporcióna palabras de uso frecuente más fáciles de adivinar.\")\n",
        "    op = request_int(\n",
        "        \"[blue]1. DataMuse.\\n2. Wordfreq.\\nElige: \",\n",
        "        lambda o: True if re.match(f\"^[12]$\", o) else False\n",
        "    )\n",
        "\n",
        "    # En función de la opción elegida, se carga un módulo u otro.\n",
        "    try:\n",
        "        match op:\n",
        "            case 1: hidden_word: str = get_rand_word_datamuse()\n",
        "            case 2: hidden_word: str = get_rand_word_freq()\n",
        "            case _: raise RuntimeError(\"No se ha elegído una opción válida para el módulo de carga de palabras.\")\n",
        "\n",
        "        # Crear una tabla\n",
        "        table = Table(title=\"[bold cyan]Wordle[/]\", show_header=False, style=\"magenta\")\n",
        "        # Longitud de la palabra.\n",
        "        word_length: int = 5\n",
        "        # Patrón que deben cumplir las palabras introducidas.\n",
        "        regex: Pattern = re.compile(fr\"^[a-zA-ZáéíóúÁÉÍÓÚñÑ]{{{word_length}}}$\")\n",
        "        win: bool = False # almacena si el jugador ha ganado.\n",
        "        turn: int = 1 # turno actual\n",
        "        attempts: int = 6 # máximo de rondas.\n",
        "\n",
        "        console.print(\"Tienes [bold]5 turnos[/] para adivinar la palabra oculta.\")\n",
        "        console.print(\"En cada intento deberás proporcionar una palabra de [bold]5 letras[/].\")\n",
        "        console.print(\"Si una letra está en la misma posición que la palabra oculta, aparecerá en [green]verde[/].\")\n",
        "        console.print(\"Si una letra está en la palabra, pero no en la misma posición, aparecerá en [yellow]amarillo[/].\")\n",
        "        console.print(\"Si una letra no está en toda la palabra, aparecerá en [dim]gris[/].\")\n",
        "\n",
        "        # El bucle de juego continúa si no se han acabado las rondas ni el jugador ha ganado.\n",
        "        while turn <= attempts and not win:\n",
        "            # Crear objeto Word con la palabra pedida por teclado, la cual se validará con el regex.\n",
        "            player_word: Word = Word(request_str(f\"{turn}: \", lambda word: True if regex.match(word) else False))\n",
        "            #Comprobar la palabra y establecer los colores de cada carácter.\n",
        "            win = player_word.check(hidden_word)\n",
        "            # Añadir filas a la tabla, cada carácter es una columna, por lo tanto, utilizo '*' para separar los elementos\n",
        "            # de la lista de carácteres en los diferentes argumentos de la función.\n",
        "            table.add_row(*player_word.characters)\n",
        "            # Imprimir la tabla\n",
        "            console.print(table)\n",
        "            # Incrementar turno\n",
        "            turn += 1\n",
        "\n",
        "        if win: # Victoria.\n",
        "            console.print(\"[green]Has ganado![/]\")\n",
        "        else: # Derrota.\n",
        "            console.print(f\"[red]Has perdido, la palabra era: {hidden_word}[/]\")\n",
        "\n",
        "        if console.input(\"[underline]Quieres seguir jugando? (s/n): \").strip().lower() == 's': main()\n",
        "    except ModuleNotFoundError as mnfe:\n",
        "        console.print(\"No se ha podido encontrar el módulo que se intenta cargar: \", mnfe, style=\"red\")\n",
        "    except RuntimeError as rune:\n",
        "        console.print(rune, style=\"red\")\n",
        "\n",
        "\n",
        "\n",
        "\n",
        "def request_str(message: str, validator: Callable[[str], bool]) -> str:\n",
        "    try:\n",
        "        string: str = console.input(message).strip().lower()\n",
        "        if string and validator(string):\n",
        "            return string\n",
        "        else:\n",
        "            console.print(\"La palabra no es válida.\", style=\"yellow\")\n",
        "            return request_str(message, validator)\n",
        "    except UnicodeDecodeError as ude:\n",
        "        console.print(\"Error: \", ude, style=\"red\")\n",
        "        return request_str(message, validator)\n",
        "\n",
        "\n",
        "def request_int(message: str, validator: Callable[[str], bool]) -> int:\n",
        "    try:\n",
        "        num: str = console.input(message).strip()\n",
        "        if num and validator(num):\n",
        "            return int(num)\n",
        "        else:\n",
        "            console.print(\"El número no es válido.\", style=\"yellow\")\n",
        "            return request_int(message, validator)\n",
        "    except (UnicodeDecodeError, ValueError, TypeError) as e:\n",
        "        console.print(\"Error: \", e, style=\"red\")\n",
        "        return request_int(message, validator)\n",
        "\n",
        "\n",
        "if __name__ == '__main__':\n",
        "    main()"
      ],
      "metadata": {
        "colab": {
          "base_uri": "https://localhost:8080/",
          "height": 990
        },
        "id": "BM0wHBnTlN0b",
        "outputId": "6de0b918-0653-4239-ba5a-d45ab7f34066"
      },
      "execution_count": null,
      "outputs": [
        {
          "output_type": "display_data",
          "data": {
            "text/plain": [
              "\u001b[92m─────────────────────────────────────── \u001b[0mBienvenido al \u001b[1;31mW\u001b[0m\u001b[1;32mo\u001b[0m\u001b[1;33mr\u001b[0m\u001b[1;34md\u001b[0m\u001b[1;35ml\u001b[0m\u001b[1;36me\u001b[0m para terminal!\u001b[92m ───────────────────────────────────────\u001b[0m\n"
            ],
            "text/html": [
              "<pre style=\"white-space:pre;overflow-x:auto;line-height:normal;font-family:Menlo,'DejaVu Sans Mono',consolas,'Courier New',monospace\"><span style=\"color: #00ff00; text-decoration-color: #00ff00\">─────────────────────────────────────── </span>Bienvenido al <span style=\"color: #800000; text-decoration-color: #800000; font-weight: bold\">W</span><span style=\"color: #008000; text-decoration-color: #008000; font-weight: bold\">o</span><span style=\"color: #808000; text-decoration-color: #808000; font-weight: bold\">r</span><span style=\"color: #000080; text-decoration-color: #000080; font-weight: bold\">d</span><span style=\"color: #800080; text-decoration-color: #800080; font-weight: bold\">l</span><span style=\"color: #008080; text-decoration-color: #008080; font-weight: bold\">e</span> para terminal!<span style=\"color: #00ff00; text-decoration-color: #00ff00\"> ───────────────────────────────────────</span>\n",
              "</pre>\n"
            ]
          },
          "metadata": {}
        },
        {
          "output_type": "stream",
          "name": "stdout",
          "text": [
            "Este programa necesita cargar una lista de palabras, para ello existen dos opciones:\n",
            "- Usar data muse (una api que proporciona palabras en inglés y en español) no requiere de instalación. programa funciona en español, pero la api muchas veces confunde palabras en ingles y las introduce en la lista.\n",
            "- Wordfreq, es una librería de python que proporciona una serie de palabras comunes, necesita de instalación, pero proporcióna palabras de uso frecuente más fáciles de adivinar.\n"
          ]
        },
        {
          "output_type": "display_data",
          "data": {
            "text/plain": [
              "\u001b[1;34m1\u001b[0m\u001b[34m. DataMuse.\u001b[0m\n",
              "\u001b[1;34m2\u001b[0m\u001b[34m. Wordfreq.\u001b[0m\n",
              "\u001b[34mElige: \u001b[0m"
            ],
            "text/html": [
              "<pre style=\"white-space:pre;overflow-x:auto;line-height:normal;font-family:Menlo,'DejaVu Sans Mono',consolas,'Courier New',monospace\"><span style=\"color: #000080; text-decoration-color: #000080; font-weight: bold\">1</span><span style=\"color: #000080; text-decoration-color: #000080\">. DataMuse.</span>\n",
              "<span style=\"color: #000080; text-decoration-color: #000080; font-weight: bold\">2</span><span style=\"color: #000080; text-decoration-color: #000080\">. Wordfreq.</span>\n",
              "<span style=\"color: #000080; text-decoration-color: #000080\">Elige: </span></pre>\n"
            ]
          },
          "metadata": {}
        },
        {
          "output_type": "stream",
          "name": "stdout",
          "text": [
            "2\n",
            "Palabras cargadas del fichero local (wordfreq.json).\n"
          ]
        },
        {
          "output_type": "display_data",
          "data": {
            "text/plain": [
              "Tienes \u001b[1;36m5\u001b[0m\u001b[1m turnos\u001b[0m para adivinar la palabra oculta.\n"
            ],
            "text/html": [
              "<pre style=\"white-space:pre;overflow-x:auto;line-height:normal;font-family:Menlo,'DejaVu Sans Mono',consolas,'Courier New',monospace\">Tienes <span style=\"color: #008080; text-decoration-color: #008080; font-weight: bold\">5</span><span style=\"font-weight: bold\"> turnos</span> para adivinar la palabra oculta.\n",
              "</pre>\n"
            ]
          },
          "metadata": {}
        },
        {
          "output_type": "display_data",
          "data": {
            "text/plain": [
              "En cada intento deberás proporcionar una palabra de \u001b[1;36m5\u001b[0m\u001b[1m letras\u001b[0m.\n"
            ],
            "text/html": [
              "<pre style=\"white-space:pre;overflow-x:auto;line-height:normal;font-family:Menlo,'DejaVu Sans Mono',consolas,'Courier New',monospace\">En cada intento deberás proporcionar una palabra de <span style=\"color: #008080; text-decoration-color: #008080; font-weight: bold\">5</span><span style=\"font-weight: bold\"> letras</span>.\n",
              "</pre>\n"
            ]
          },
          "metadata": {}
        },
        {
          "output_type": "display_data",
          "data": {
            "text/plain": [
              "Si una letra está en la misma posición que la palabra oculta, aparecerá en \u001b[32mverde\u001b[0m.\n"
            ],
            "text/html": [
              "<pre style=\"white-space:pre;overflow-x:auto;line-height:normal;font-family:Menlo,'DejaVu Sans Mono',consolas,'Courier New',monospace\">Si una letra está en la misma posición que la palabra oculta, aparecerá en <span style=\"color: #008000; text-decoration-color: #008000\">verde</span>.\n",
              "</pre>\n"
            ]
          },
          "metadata": {}
        },
        {
          "output_type": "display_data",
          "data": {
            "text/plain": [
              "Si una letra está en la palabra, pero no en la misma posición, aparecerá en \u001b[33mamarillo\u001b[0m.\n"
            ],
            "text/html": [
              "<pre style=\"white-space:pre;overflow-x:auto;line-height:normal;font-family:Menlo,'DejaVu Sans Mono',consolas,'Courier New',monospace\">Si una letra está en la palabra, pero no en la misma posición, aparecerá en <span style=\"color: #808000; text-decoration-color: #808000\">amarillo</span>.\n",
              "</pre>\n"
            ]
          },
          "metadata": {}
        },
        {
          "output_type": "display_data",
          "data": {
            "text/plain": [
              "Si una letra no está en toda la palabra, aparecerá en \u001b[2mgris\u001b[0m.\n"
            ],
            "text/html": [
              "<pre style=\"white-space:pre;overflow-x:auto;line-height:normal;font-family:Menlo,'DejaVu Sans Mono',consolas,'Courier New',monospace\">Si una letra no está en toda la palabra, aparecerá en <span style=\"color: #7f7f7f; text-decoration-color: #7f7f7f\">gris</span>.\n",
              "</pre>\n"
            ]
          },
          "metadata": {}
        },
        {
          "output_type": "display_data",
          "data": {
            "text/plain": [
              "\u001b[1;36m1\u001b[0m: "
            ],
            "text/html": [
              "<pre style=\"white-space:pre;overflow-x:auto;line-height:normal;font-family:Menlo,'DejaVu Sans Mono',consolas,'Courier New',monospace\"><span style=\"color: #008080; text-decoration-color: #008080; font-weight: bold\">1</span>: </pre>\n"
            ]
          },
          "metadata": {}
        },
        {
          "name": "stdout",
          "output_type": "stream",
          "text": [
            "aeiou\n"
          ]
        },
        {
          "output_type": "display_data",
          "data": {
            "text/plain": [
              "\u001b[3m       \u001b[0m\u001b[1;3;36mWordle\u001b[0m\u001b[3m        \u001b[0m\n",
              "\u001b[35m┌───┬───┬───┬───┬───┐\u001b[0m\n",
              "\u001b[35m│\u001b[0m \u001b[2ma\u001b[0m \u001b[35m│\u001b[0m \u001b[32me\u001b[0m \u001b[35m│\u001b[0m \u001b[33mi\u001b[0m \u001b[35m│\u001b[0m \u001b[33mo\u001b[0m \u001b[35m│\u001b[0m \u001b[2mu\u001b[0m \u001b[35m│\u001b[0m\n",
              "\u001b[35m└───┴───┴───┴───┴───┘\u001b[0m\n"
            ],
            "text/html": [
              "<pre style=\"white-space:pre;overflow-x:auto;line-height:normal;font-family:Menlo,'DejaVu Sans Mono',consolas,'Courier New',monospace\"><span style=\"font-style: italic\">       </span><span style=\"color: #008080; text-decoration-color: #008080; font-weight: bold; font-style: italic\">Wordle</span><span style=\"font-style: italic\">        </span>\n",
              "<span style=\"color: #800080; text-decoration-color: #800080\">┌───┬───┬───┬───┬───┐</span>\n",
              "<span style=\"color: #800080; text-decoration-color: #800080\">│</span> <span style=\"color: #7f7f7f; text-decoration-color: #7f7f7f\">a</span> <span style=\"color: #800080; text-decoration-color: #800080\">│</span> <span style=\"color: #008000; text-decoration-color: #008000\">e</span> <span style=\"color: #800080; text-decoration-color: #800080\">│</span> <span style=\"color: #808000; text-decoration-color: #808000\">i</span> <span style=\"color: #800080; text-decoration-color: #800080\">│</span> <span style=\"color: #808000; text-decoration-color: #808000\">o</span> <span style=\"color: #800080; text-decoration-color: #800080\">│</span> <span style=\"color: #7f7f7f; text-decoration-color: #7f7f7f\">u</span> <span style=\"color: #800080; text-decoration-color: #800080\">│</span>\n",
              "<span style=\"color: #800080; text-decoration-color: #800080\">└───┴───┴───┴───┴───┘</span>\n",
              "</pre>\n"
            ]
          },
          "metadata": {}
        },
        {
          "output_type": "display_data",
          "data": {
            "text/plain": [
              "\u001b[1;36m2\u001b[0m: "
            ],
            "text/html": [
              "<pre style=\"white-space:pre;overflow-x:auto;line-height:normal;font-family:Menlo,'DejaVu Sans Mono',consolas,'Courier New',monospace\"><span style=\"color: #008080; text-decoration-color: #008080; font-weight: bold\">2</span>: </pre>\n"
            ]
          },
          "metadata": {}
        },
        {
          "name": "stdout",
          "output_type": "stream",
          "text": [
            "bcdfg\n"
          ]
        },
        {
          "output_type": "display_data",
          "data": {
            "text/plain": [
              "\u001b[3m       \u001b[0m\u001b[1;3;36mWordle\u001b[0m\u001b[3m        \u001b[0m\n",
              "\u001b[35m┌───┬───┬───┬───┬───┐\u001b[0m\n",
              "\u001b[35m│\u001b[0m \u001b[2ma\u001b[0m \u001b[35m│\u001b[0m \u001b[32me\u001b[0m \u001b[35m│\u001b[0m \u001b[33mi\u001b[0m \u001b[35m│\u001b[0m \u001b[33mo\u001b[0m \u001b[35m│\u001b[0m \u001b[2mu\u001b[0m \u001b[35m│\u001b[0m\n",
              "\u001b[35m│\u001b[0m \u001b[2mb\u001b[0m \u001b[35m│\u001b[0m \u001b[2mc\u001b[0m \u001b[35m│\u001b[0m \u001b[2md\u001b[0m \u001b[35m│\u001b[0m \u001b[2mf\u001b[0m \u001b[35m│\u001b[0m \u001b[2mg\u001b[0m \u001b[35m│\u001b[0m\n",
              "\u001b[35m└───┴───┴───┴───┴───┘\u001b[0m\n"
            ],
            "text/html": [
              "<pre style=\"white-space:pre;overflow-x:auto;line-height:normal;font-family:Menlo,'DejaVu Sans Mono',consolas,'Courier New',monospace\"><span style=\"font-style: italic\">       </span><span style=\"color: #008080; text-decoration-color: #008080; font-weight: bold; font-style: italic\">Wordle</span><span style=\"font-style: italic\">        </span>\n",
              "<span style=\"color: #800080; text-decoration-color: #800080\">┌───┬───┬───┬───┬───┐</span>\n",
              "<span style=\"color: #800080; text-decoration-color: #800080\">│</span> <span style=\"color: #7f7f7f; text-decoration-color: #7f7f7f\">a</span> <span style=\"color: #800080; text-decoration-color: #800080\">│</span> <span style=\"color: #008000; text-decoration-color: #008000\">e</span> <span style=\"color: #800080; text-decoration-color: #800080\">│</span> <span style=\"color: #808000; text-decoration-color: #808000\">i</span> <span style=\"color: #800080; text-decoration-color: #800080\">│</span> <span style=\"color: #808000; text-decoration-color: #808000\">o</span> <span style=\"color: #800080; text-decoration-color: #800080\">│</span> <span style=\"color: #7f7f7f; text-decoration-color: #7f7f7f\">u</span> <span style=\"color: #800080; text-decoration-color: #800080\">│</span>\n",
              "<span style=\"color: #800080; text-decoration-color: #800080\">│</span> <span style=\"color: #7f7f7f; text-decoration-color: #7f7f7f\">b</span> <span style=\"color: #800080; text-decoration-color: #800080\">│</span> <span style=\"color: #7f7f7f; text-decoration-color: #7f7f7f\">c</span> <span style=\"color: #800080; text-decoration-color: #800080\">│</span> <span style=\"color: #7f7f7f; text-decoration-color: #7f7f7f\">d</span> <span style=\"color: #800080; text-decoration-color: #800080\">│</span> <span style=\"color: #7f7f7f; text-decoration-color: #7f7f7f\">f</span> <span style=\"color: #800080; text-decoration-color: #800080\">│</span> <span style=\"color: #7f7f7f; text-decoration-color: #7f7f7f\">g</span> <span style=\"color: #800080; text-decoration-color: #800080\">│</span>\n",
              "<span style=\"color: #800080; text-decoration-color: #800080\">└───┴───┴───┴───┴───┘</span>\n",
              "</pre>\n"
            ]
          },
          "metadata": {}
        },
        {
          "output_type": "display_data",
          "data": {
            "text/plain": [
              "\u001b[1;36m3\u001b[0m: "
            ],
            "text/html": [
              "<pre style=\"white-space:pre;overflow-x:auto;line-height:normal;font-family:Menlo,'DejaVu Sans Mono',consolas,'Courier New',monospace\"><span style=\"color: #008080; text-decoration-color: #008080; font-weight: bold\">3</span>: </pre>\n"
            ]
          },
          "metadata": {}
        },
        {
          "name": "stdout",
          "output_type": "stream",
          "text": [
            "jlmnp\n"
          ]
        },
        {
          "output_type": "display_data",
          "data": {
            "text/plain": [
              "\u001b[3m       \u001b[0m\u001b[1;3;36mWordle\u001b[0m\u001b[3m        \u001b[0m\n",
              "\u001b[35m┌───┬───┬───┬───┬───┐\u001b[0m\n",
              "\u001b[35m│\u001b[0m \u001b[2ma\u001b[0m \u001b[35m│\u001b[0m \u001b[32me\u001b[0m \u001b[35m│\u001b[0m \u001b[33mi\u001b[0m \u001b[35m│\u001b[0m \u001b[33mo\u001b[0m \u001b[35m│\u001b[0m \u001b[2mu\u001b[0m \u001b[35m│\u001b[0m\n",
              "\u001b[35m│\u001b[0m \u001b[2mb\u001b[0m \u001b[35m│\u001b[0m \u001b[2mc\u001b[0m \u001b[35m│\u001b[0m \u001b[2md\u001b[0m \u001b[35m│\u001b[0m \u001b[2mf\u001b[0m \u001b[35m│\u001b[0m \u001b[2mg\u001b[0m \u001b[35m│\u001b[0m\n",
              "\u001b[35m│\u001b[0m \u001b[2mj\u001b[0m \u001b[35m│\u001b[0m \u001b[2ml\u001b[0m \u001b[35m│\u001b[0m \u001b[2mm\u001b[0m \u001b[35m│\u001b[0m \u001b[2mn\u001b[0m \u001b[35m│\u001b[0m \u001b[2mp\u001b[0m \u001b[35m│\u001b[0m\n",
              "\u001b[35m└───┴───┴───┴───┴───┘\u001b[0m\n"
            ],
            "text/html": [
              "<pre style=\"white-space:pre;overflow-x:auto;line-height:normal;font-family:Menlo,'DejaVu Sans Mono',consolas,'Courier New',monospace\"><span style=\"font-style: italic\">       </span><span style=\"color: #008080; text-decoration-color: #008080; font-weight: bold; font-style: italic\">Wordle</span><span style=\"font-style: italic\">        </span>\n",
              "<span style=\"color: #800080; text-decoration-color: #800080\">┌───┬───┬───┬───┬───┐</span>\n",
              "<span style=\"color: #800080; text-decoration-color: #800080\">│</span> <span style=\"color: #7f7f7f; text-decoration-color: #7f7f7f\">a</span> <span style=\"color: #800080; text-decoration-color: #800080\">│</span> <span style=\"color: #008000; text-decoration-color: #008000\">e</span> <span style=\"color: #800080; text-decoration-color: #800080\">│</span> <span style=\"color: #808000; text-decoration-color: #808000\">i</span> <span style=\"color: #800080; text-decoration-color: #800080\">│</span> <span style=\"color: #808000; text-decoration-color: #808000\">o</span> <span style=\"color: #800080; text-decoration-color: #800080\">│</span> <span style=\"color: #7f7f7f; text-decoration-color: #7f7f7f\">u</span> <span style=\"color: #800080; text-decoration-color: #800080\">│</span>\n",
              "<span style=\"color: #800080; text-decoration-color: #800080\">│</span> <span style=\"color: #7f7f7f; text-decoration-color: #7f7f7f\">b</span> <span style=\"color: #800080; text-decoration-color: #800080\">│</span> <span style=\"color: #7f7f7f; text-decoration-color: #7f7f7f\">c</span> <span style=\"color: #800080; text-decoration-color: #800080\">│</span> <span style=\"color: #7f7f7f; text-decoration-color: #7f7f7f\">d</span> <span style=\"color: #800080; text-decoration-color: #800080\">│</span> <span style=\"color: #7f7f7f; text-decoration-color: #7f7f7f\">f</span> <span style=\"color: #800080; text-decoration-color: #800080\">│</span> <span style=\"color: #7f7f7f; text-decoration-color: #7f7f7f\">g</span> <span style=\"color: #800080; text-decoration-color: #800080\">│</span>\n",
              "<span style=\"color: #800080; text-decoration-color: #800080\">│</span> <span style=\"color: #7f7f7f; text-decoration-color: #7f7f7f\">j</span> <span style=\"color: #800080; text-decoration-color: #800080\">│</span> <span style=\"color: #7f7f7f; text-decoration-color: #7f7f7f\">l</span> <span style=\"color: #800080; text-decoration-color: #800080\">│</span> <span style=\"color: #7f7f7f; text-decoration-color: #7f7f7f\">m</span> <span style=\"color: #800080; text-decoration-color: #800080\">│</span> <span style=\"color: #7f7f7f; text-decoration-color: #7f7f7f\">n</span> <span style=\"color: #800080; text-decoration-color: #800080\">│</span> <span style=\"color: #7f7f7f; text-decoration-color: #7f7f7f\">p</span> <span style=\"color: #800080; text-decoration-color: #800080\">│</span>\n",
              "<span style=\"color: #800080; text-decoration-color: #800080\">└───┴───┴───┴───┴───┘</span>\n",
              "</pre>\n"
            ]
          },
          "metadata": {}
        },
        {
          "output_type": "display_data",
          "data": {
            "text/plain": [
              "\u001b[1;36m4\u001b[0m: "
            ],
            "text/html": [
              "<pre style=\"white-space:pre;overflow-x:auto;line-height:normal;font-family:Menlo,'DejaVu Sans Mono',consolas,'Courier New',monospace\"><span style=\"color: #008080; text-decoration-color: #008080; font-weight: bold\">4</span>: </pre>\n"
            ]
          },
          "metadata": {}
        },
        {
          "name": "stdout",
          "output_type": "stream",
          "text": [
            "rstvz\n"
          ]
        },
        {
          "output_type": "display_data",
          "data": {
            "text/plain": [
              "\u001b[3m       \u001b[0m\u001b[1;3;36mWordle\u001b[0m\u001b[3m        \u001b[0m\n",
              "\u001b[35m┌───┬───┬───┬───┬───┐\u001b[0m\n",
              "\u001b[35m│\u001b[0m \u001b[2ma\u001b[0m \u001b[35m│\u001b[0m \u001b[32me\u001b[0m \u001b[35m│\u001b[0m \u001b[33mi\u001b[0m \u001b[35m│\u001b[0m \u001b[33mo\u001b[0m \u001b[35m│\u001b[0m \u001b[2mu\u001b[0m \u001b[35m│\u001b[0m\n",
              "\u001b[35m│\u001b[0m \u001b[2mb\u001b[0m \u001b[35m│\u001b[0m \u001b[2mc\u001b[0m \u001b[35m│\u001b[0m \u001b[2md\u001b[0m \u001b[35m│\u001b[0m \u001b[2mf\u001b[0m \u001b[35m│\u001b[0m \u001b[2mg\u001b[0m \u001b[35m│\u001b[0m\n",
              "\u001b[35m│\u001b[0m \u001b[2mj\u001b[0m \u001b[35m│\u001b[0m \u001b[2ml\u001b[0m \u001b[35m│\u001b[0m \u001b[2mm\u001b[0m \u001b[35m│\u001b[0m \u001b[2mn\u001b[0m \u001b[35m│\u001b[0m \u001b[2mp\u001b[0m \u001b[35m│\u001b[0m\n",
              "\u001b[35m│\u001b[0m \u001b[33mr\u001b[0m \u001b[35m│\u001b[0m \u001b[33ms\u001b[0m \u001b[35m│\u001b[0m \u001b[2mt\u001b[0m \u001b[35m│\u001b[0m \u001b[2mv\u001b[0m \u001b[35m│\u001b[0m \u001b[2mz\u001b[0m \u001b[35m│\u001b[0m\n",
              "\u001b[35m└───┴───┴───┴───┴───┘\u001b[0m\n"
            ],
            "text/html": [
              "<pre style=\"white-space:pre;overflow-x:auto;line-height:normal;font-family:Menlo,'DejaVu Sans Mono',consolas,'Courier New',monospace\"><span style=\"font-style: italic\">       </span><span style=\"color: #008080; text-decoration-color: #008080; font-weight: bold; font-style: italic\">Wordle</span><span style=\"font-style: italic\">        </span>\n",
              "<span style=\"color: #800080; text-decoration-color: #800080\">┌───┬───┬───┬───┬───┐</span>\n",
              "<span style=\"color: #800080; text-decoration-color: #800080\">│</span> <span style=\"color: #7f7f7f; text-decoration-color: #7f7f7f\">a</span> <span style=\"color: #800080; text-decoration-color: #800080\">│</span> <span style=\"color: #008000; text-decoration-color: #008000\">e</span> <span style=\"color: #800080; text-decoration-color: #800080\">│</span> <span style=\"color: #808000; text-decoration-color: #808000\">i</span> <span style=\"color: #800080; text-decoration-color: #800080\">│</span> <span style=\"color: #808000; text-decoration-color: #808000\">o</span> <span style=\"color: #800080; text-decoration-color: #800080\">│</span> <span style=\"color: #7f7f7f; text-decoration-color: #7f7f7f\">u</span> <span style=\"color: #800080; text-decoration-color: #800080\">│</span>\n",
              "<span style=\"color: #800080; text-decoration-color: #800080\">│</span> <span style=\"color: #7f7f7f; text-decoration-color: #7f7f7f\">b</span> <span style=\"color: #800080; text-decoration-color: #800080\">│</span> <span style=\"color: #7f7f7f; text-decoration-color: #7f7f7f\">c</span> <span style=\"color: #800080; text-decoration-color: #800080\">│</span> <span style=\"color: #7f7f7f; text-decoration-color: #7f7f7f\">d</span> <span style=\"color: #800080; text-decoration-color: #800080\">│</span> <span style=\"color: #7f7f7f; text-decoration-color: #7f7f7f\">f</span> <span style=\"color: #800080; text-decoration-color: #800080\">│</span> <span style=\"color: #7f7f7f; text-decoration-color: #7f7f7f\">g</span> <span style=\"color: #800080; text-decoration-color: #800080\">│</span>\n",
              "<span style=\"color: #800080; text-decoration-color: #800080\">│</span> <span style=\"color: #7f7f7f; text-decoration-color: #7f7f7f\">j</span> <span style=\"color: #800080; text-decoration-color: #800080\">│</span> <span style=\"color: #7f7f7f; text-decoration-color: #7f7f7f\">l</span> <span style=\"color: #800080; text-decoration-color: #800080\">│</span> <span style=\"color: #7f7f7f; text-decoration-color: #7f7f7f\">m</span> <span style=\"color: #800080; text-decoration-color: #800080\">│</span> <span style=\"color: #7f7f7f; text-decoration-color: #7f7f7f\">n</span> <span style=\"color: #800080; text-decoration-color: #800080\">│</span> <span style=\"color: #7f7f7f; text-decoration-color: #7f7f7f\">p</span> <span style=\"color: #800080; text-decoration-color: #800080\">│</span>\n",
              "<span style=\"color: #800080; text-decoration-color: #800080\">│</span> <span style=\"color: #808000; text-decoration-color: #808000\">r</span> <span style=\"color: #800080; text-decoration-color: #800080\">│</span> <span style=\"color: #808000; text-decoration-color: #808000\">s</span> <span style=\"color: #800080; text-decoration-color: #800080\">│</span> <span style=\"color: #7f7f7f; text-decoration-color: #7f7f7f\">t</span> <span style=\"color: #800080; text-decoration-color: #800080\">│</span> <span style=\"color: #7f7f7f; text-decoration-color: #7f7f7f\">v</span> <span style=\"color: #800080; text-decoration-color: #800080\">│</span> <span style=\"color: #7f7f7f; text-decoration-color: #7f7f7f\">z</span> <span style=\"color: #800080; text-decoration-color: #800080\">│</span>\n",
              "<span style=\"color: #800080; text-decoration-color: #800080\">└───┴───┴───┴───┴───┘</span>\n",
              "</pre>\n"
            ]
          },
          "metadata": {}
        },
        {
          "output_type": "display_data",
          "data": {
            "text/plain": [
              "\u001b[1;36m5\u001b[0m: "
            ],
            "text/html": [
              "<pre style=\"white-space:pre;overflow-x:auto;line-height:normal;font-family:Menlo,'DejaVu Sans Mono',consolas,'Courier New',monospace\"><span style=\"color: #008080; text-decoration-color: #008080; font-weight: bold\">5</span>: </pre>\n"
            ]
          },
          "metadata": {}
        },
        {
          "name": "stdout",
          "output_type": "stream",
          "text": [
            "serio\n"
          ]
        },
        {
          "output_type": "display_data",
          "data": {
            "text/plain": [
              "\u001b[3m       \u001b[0m\u001b[1;3;36mWordle\u001b[0m\u001b[3m        \u001b[0m\n",
              "\u001b[35m┌───┬───┬───┬───┬───┐\u001b[0m\n",
              "\u001b[35m│\u001b[0m \u001b[2ma\u001b[0m \u001b[35m│\u001b[0m \u001b[32me\u001b[0m \u001b[35m│\u001b[0m \u001b[33mi\u001b[0m \u001b[35m│\u001b[0m \u001b[33mo\u001b[0m \u001b[35m│\u001b[0m \u001b[2mu\u001b[0m \u001b[35m│\u001b[0m\n",
              "\u001b[35m│\u001b[0m \u001b[2mb\u001b[0m \u001b[35m│\u001b[0m \u001b[2mc\u001b[0m \u001b[35m│\u001b[0m \u001b[2md\u001b[0m \u001b[35m│\u001b[0m \u001b[2mf\u001b[0m \u001b[35m│\u001b[0m \u001b[2mg\u001b[0m \u001b[35m│\u001b[0m\n",
              "\u001b[35m│\u001b[0m \u001b[2mj\u001b[0m \u001b[35m│\u001b[0m \u001b[2ml\u001b[0m \u001b[35m│\u001b[0m \u001b[2mm\u001b[0m \u001b[35m│\u001b[0m \u001b[2mn\u001b[0m \u001b[35m│\u001b[0m \u001b[2mp\u001b[0m \u001b[35m│\u001b[0m\n",
              "\u001b[35m│\u001b[0m \u001b[33mr\u001b[0m \u001b[35m│\u001b[0m \u001b[33ms\u001b[0m \u001b[35m│\u001b[0m \u001b[2mt\u001b[0m \u001b[35m│\u001b[0m \u001b[2mv\u001b[0m \u001b[35m│\u001b[0m \u001b[2mz\u001b[0m \u001b[35m│\u001b[0m\n",
              "\u001b[35m│\u001b[0m \u001b[32ms\u001b[0m \u001b[35m│\u001b[0m \u001b[32me\u001b[0m \u001b[35m│\u001b[0m \u001b[32mr\u001b[0m \u001b[35m│\u001b[0m \u001b[32mi\u001b[0m \u001b[35m│\u001b[0m \u001b[32mo\u001b[0m \u001b[35m│\u001b[0m\n",
              "\u001b[35m└───┴───┴───┴───┴───┘\u001b[0m\n"
            ],
            "text/html": [
              "<pre style=\"white-space:pre;overflow-x:auto;line-height:normal;font-family:Menlo,'DejaVu Sans Mono',consolas,'Courier New',monospace\"><span style=\"font-style: italic\">       </span><span style=\"color: #008080; text-decoration-color: #008080; font-weight: bold; font-style: italic\">Wordle</span><span style=\"font-style: italic\">        </span>\n",
              "<span style=\"color: #800080; text-decoration-color: #800080\">┌───┬───┬───┬───┬───┐</span>\n",
              "<span style=\"color: #800080; text-decoration-color: #800080\">│</span> <span style=\"color: #7f7f7f; text-decoration-color: #7f7f7f\">a</span> <span style=\"color: #800080; text-decoration-color: #800080\">│</span> <span style=\"color: #008000; text-decoration-color: #008000\">e</span> <span style=\"color: #800080; text-decoration-color: #800080\">│</span> <span style=\"color: #808000; text-decoration-color: #808000\">i</span> <span style=\"color: #800080; text-decoration-color: #800080\">│</span> <span style=\"color: #808000; text-decoration-color: #808000\">o</span> <span style=\"color: #800080; text-decoration-color: #800080\">│</span> <span style=\"color: #7f7f7f; text-decoration-color: #7f7f7f\">u</span> <span style=\"color: #800080; text-decoration-color: #800080\">│</span>\n",
              "<span style=\"color: #800080; text-decoration-color: #800080\">│</span> <span style=\"color: #7f7f7f; text-decoration-color: #7f7f7f\">b</span> <span style=\"color: #800080; text-decoration-color: #800080\">│</span> <span style=\"color: #7f7f7f; text-decoration-color: #7f7f7f\">c</span> <span style=\"color: #800080; text-decoration-color: #800080\">│</span> <span style=\"color: #7f7f7f; text-decoration-color: #7f7f7f\">d</span> <span style=\"color: #800080; text-decoration-color: #800080\">│</span> <span style=\"color: #7f7f7f; text-decoration-color: #7f7f7f\">f</span> <span style=\"color: #800080; text-decoration-color: #800080\">│</span> <span style=\"color: #7f7f7f; text-decoration-color: #7f7f7f\">g</span> <span style=\"color: #800080; text-decoration-color: #800080\">│</span>\n",
              "<span style=\"color: #800080; text-decoration-color: #800080\">│</span> <span style=\"color: #7f7f7f; text-decoration-color: #7f7f7f\">j</span> <span style=\"color: #800080; text-decoration-color: #800080\">│</span> <span style=\"color: #7f7f7f; text-decoration-color: #7f7f7f\">l</span> <span style=\"color: #800080; text-decoration-color: #800080\">│</span> <span style=\"color: #7f7f7f; text-decoration-color: #7f7f7f\">m</span> <span style=\"color: #800080; text-decoration-color: #800080\">│</span> <span style=\"color: #7f7f7f; text-decoration-color: #7f7f7f\">n</span> <span style=\"color: #800080; text-decoration-color: #800080\">│</span> <span style=\"color: #7f7f7f; text-decoration-color: #7f7f7f\">p</span> <span style=\"color: #800080; text-decoration-color: #800080\">│</span>\n",
              "<span style=\"color: #800080; text-decoration-color: #800080\">│</span> <span style=\"color: #808000; text-decoration-color: #808000\">r</span> <span style=\"color: #800080; text-decoration-color: #800080\">│</span> <span style=\"color: #808000; text-decoration-color: #808000\">s</span> <span style=\"color: #800080; text-decoration-color: #800080\">│</span> <span style=\"color: #7f7f7f; text-decoration-color: #7f7f7f\">t</span> <span style=\"color: #800080; text-decoration-color: #800080\">│</span> <span style=\"color: #7f7f7f; text-decoration-color: #7f7f7f\">v</span> <span style=\"color: #800080; text-decoration-color: #800080\">│</span> <span style=\"color: #7f7f7f; text-decoration-color: #7f7f7f\">z</span> <span style=\"color: #800080; text-decoration-color: #800080\">│</span>\n",
              "<span style=\"color: #800080; text-decoration-color: #800080\">│</span> <span style=\"color: #008000; text-decoration-color: #008000\">s</span> <span style=\"color: #800080; text-decoration-color: #800080\">│</span> <span style=\"color: #008000; text-decoration-color: #008000\">e</span> <span style=\"color: #800080; text-decoration-color: #800080\">│</span> <span style=\"color: #008000; text-decoration-color: #008000\">r</span> <span style=\"color: #800080; text-decoration-color: #800080\">│</span> <span style=\"color: #008000; text-decoration-color: #008000\">i</span> <span style=\"color: #800080; text-decoration-color: #800080\">│</span> <span style=\"color: #008000; text-decoration-color: #008000\">o</span> <span style=\"color: #800080; text-decoration-color: #800080\">│</span>\n",
              "<span style=\"color: #800080; text-decoration-color: #800080\">└───┴───┴───┴───┴───┘</span>\n",
              "</pre>\n"
            ]
          },
          "metadata": {}
        },
        {
          "output_type": "display_data",
          "data": {
            "text/plain": [
              "\u001b[32mHas ganado!\u001b[0m\n"
            ],
            "text/html": [
              "<pre style=\"white-space:pre;overflow-x:auto;line-height:normal;font-family:Menlo,'DejaVu Sans Mono',consolas,'Courier New',monospace\"><span style=\"color: #008000; text-decoration-color: #008000\">Has ganado!</span>\n",
              "</pre>\n"
            ]
          },
          "metadata": {}
        },
        {
          "output_type": "display_data",
          "data": {
            "text/plain": [
              "\u001b[4mQuieres seguir jugando? \u001b[0m\u001b[1;4m(\u001b[0m\u001b[4ms/n\u001b[0m\u001b[1;4m)\u001b[0m\u001b[4m: \u001b[0m"
            ],
            "text/html": [
              "<pre style=\"white-space:pre;overflow-x:auto;line-height:normal;font-family:Menlo,'DejaVu Sans Mono',consolas,'Courier New',monospace\"><span style=\"text-decoration: underline\">Quieres seguir jugando? </span><span style=\"font-weight: bold; text-decoration: underline\">(</span><span style=\"text-decoration: underline\">s/n</span><span style=\"font-weight: bold; text-decoration: underline\">)</span><span style=\"text-decoration: underline\">: </span></pre>\n"
            ]
          },
          "metadata": {}
        },
        {
          "name": "stdout",
          "output_type": "stream",
          "text": [
            "n\n"
          ]
        }
      ]
    }
  ]
}